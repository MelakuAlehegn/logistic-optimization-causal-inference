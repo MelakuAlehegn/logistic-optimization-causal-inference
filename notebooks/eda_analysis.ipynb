{
 "cells": [
  {
   "cell_type": "code",
   "execution_count": null,
   "metadata": {},
   "outputs": [],
   "source": [
    "import pandas as pd\n",
    "\n",
    "# Load the CSV files\n",
    "file1 = 'path_to_first_csv_file.csv'\n",
    "file2 = 'path_to_second_csv_file.csv'\n",
    "\n",
    "data1 = pd.read_csv(file1)\n",
    "data2 = pd.read_csv(file2)\n",
    "\n",
    "print(data1.head())\n",
    "print(data2.head())"
   ]
  }
 ],
 "metadata": {
  "kernelspec": {
   "display_name": "Python 3",
   "language": "python",
   "name": "python3"
  },
  "language_info": {
   "codemirror_mode": {
    "name": "ipython",
    "version": 3
   },
   "file_extension": ".py",
   "mimetype": "text/x-python",
   "name": "python",
   "nbconvert_exporter": "python",
   "pygments_lexer": "ipython3",
   "version": "3.10.12"
  }
 },
 "nbformat": 4,
 "nbformat_minor": 2
}
